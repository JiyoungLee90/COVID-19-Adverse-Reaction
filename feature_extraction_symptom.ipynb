{
 "cells": [
  {
   "cell_type": "markdown",
   "id": "fccd46c3",
   "metadata": {},
   "source": [
    "# Symptom Classification\n",
    "\n",
    "## Most Frequent Symptoms"
   ]
  },
  {
   "cell_type": "code",
   "execution_count": 1,
   "id": "33f0225c",
   "metadata": {},
   "outputs": [],
   "source": [
    "from os import path\n",
    "import pandas as pd\n",
    "import numpy as np\n",
    "import matplotlib as plt\n",
    "import re\n",
    "import pickle"
   ]
  },
  {
   "cell_type": "markdown",
   "id": "0049b7d9",
   "metadata": {},
   "source": [
    "### Symptom Data"
   ]
  },
  {
   "cell_type": "code",
   "execution_count": 20,
   "id": "30a25d64",
   "metadata": {
    "scrolled": true
   },
   "outputs": [
    {
     "data": {
      "text/html": [
       "<div>\n",
       "<style scoped>\n",
       "    .dataframe tbody tr th:only-of-type {\n",
       "        vertical-align: middle;\n",
       "    }\n",
       "\n",
       "    .dataframe tbody tr th {\n",
       "        vertical-align: top;\n",
       "    }\n",
       "\n",
       "    .dataframe thead th {\n",
       "        text-align: right;\n",
       "    }\n",
       "</style>\n",
       "<table border=\"1\" class=\"dataframe\">\n",
       "  <thead>\n",
       "    <tr style=\"text-align: right;\">\n",
       "      <th></th>\n",
       "      <th>VAERS_ID</th>\n",
       "      <th>SYMPTOM1</th>\n",
       "      <th>SYMPTOMVERSION1</th>\n",
       "      <th>SYMPTOM2</th>\n",
       "      <th>SYMPTOMVERSION2</th>\n",
       "      <th>SYMPTOM3</th>\n",
       "      <th>SYMPTOMVERSION3</th>\n",
       "      <th>SYMPTOM4</th>\n",
       "      <th>SYMPTOMVERSION4</th>\n",
       "      <th>SYMPTOM5</th>\n",
       "      <th>SYMPTOMVERSION5</th>\n",
       "    </tr>\n",
       "  </thead>\n",
       "  <tbody>\n",
       "    <tr>\n",
       "      <th>39251</th>\n",
       "      <td>896636</td>\n",
       "      <td>Arthralgia</td>\n",
       "      <td>24.0</td>\n",
       "      <td>Confusional state</td>\n",
       "      <td>24.0</td>\n",
       "      <td>Fatigue</td>\n",
       "      <td>24.0</td>\n",
       "      <td>Feeling abnormal</td>\n",
       "      <td>24.0</td>\n",
       "      <td>Head discomfort</td>\n",
       "      <td>24.0</td>\n",
       "    </tr>\n",
       "    <tr>\n",
       "      <th>39252</th>\n",
       "      <td>896636</td>\n",
       "      <td>Memory impairment</td>\n",
       "      <td>24.0</td>\n",
       "      <td>Pain in extremity</td>\n",
       "      <td>24.0</td>\n",
       "      <td>Peripheral swelling</td>\n",
       "      <td>24.0</td>\n",
       "      <td>Physiotherapy</td>\n",
       "      <td>24.0</td>\n",
       "      <td>Pyrexia</td>\n",
       "      <td>24.0</td>\n",
       "    </tr>\n",
       "    <tr>\n",
       "      <th>44580</th>\n",
       "      <td>902418</td>\n",
       "      <td>Hypoaesthesia</td>\n",
       "      <td>24.0</td>\n",
       "      <td>Injection site hypoaesthesia</td>\n",
       "      <td>24.0</td>\n",
       "      <td>NaN</td>\n",
       "      <td>NaN</td>\n",
       "      <td>NaN</td>\n",
       "      <td>NaN</td>\n",
       "      <td>NaN</td>\n",
       "      <td>NaN</td>\n",
       "    </tr>\n",
       "    <tr>\n",
       "      <th>44591</th>\n",
       "      <td>902440</td>\n",
       "      <td>Headache</td>\n",
       "      <td>23.1</td>\n",
       "      <td>NaN</td>\n",
       "      <td>NaN</td>\n",
       "      <td>NaN</td>\n",
       "      <td>NaN</td>\n",
       "      <td>NaN</td>\n",
       "      <td>NaN</td>\n",
       "      <td>NaN</td>\n",
       "      <td>NaN</td>\n",
       "    </tr>\n",
       "    <tr>\n",
       "      <th>44594</th>\n",
       "      <td>902446</td>\n",
       "      <td>Erythema</td>\n",
       "      <td>23.1</td>\n",
       "      <td>Feeling hot</td>\n",
       "      <td>23.1</td>\n",
       "      <td>Flushing</td>\n",
       "      <td>23.1</td>\n",
       "      <td>NaN</td>\n",
       "      <td>NaN</td>\n",
       "      <td>NaN</td>\n",
       "      <td>NaN</td>\n",
       "    </tr>\n",
       "    <tr>\n",
       "      <th>...</th>\n",
       "      <td>...</td>\n",
       "      <td>...</td>\n",
       "      <td>...</td>\n",
       "      <td>...</td>\n",
       "      <td>...</td>\n",
       "      <td>...</td>\n",
       "      <td>...</td>\n",
       "      <td>...</td>\n",
       "      <td>...</td>\n",
       "      <td>...</td>\n",
       "      <td>...</td>\n",
       "    </tr>\n",
       "    <tr>\n",
       "      <th>531237</th>\n",
       "      <td>1427468</td>\n",
       "      <td>Headache</td>\n",
       "      <td>24.0</td>\n",
       "      <td>Unresponsive to stimuli</td>\n",
       "      <td>24.0</td>\n",
       "      <td>NaN</td>\n",
       "      <td>NaN</td>\n",
       "      <td>NaN</td>\n",
       "      <td>NaN</td>\n",
       "      <td>NaN</td>\n",
       "      <td>NaN</td>\n",
       "    </tr>\n",
       "    <tr>\n",
       "      <th>531238</th>\n",
       "      <td>1427471</td>\n",
       "      <td>Dizziness</td>\n",
       "      <td>24.0</td>\n",
       "      <td>Syncope</td>\n",
       "      <td>24.0</td>\n",
       "      <td>Unresponsive to stimuli</td>\n",
       "      <td>24.0</td>\n",
       "      <td>NaN</td>\n",
       "      <td>NaN</td>\n",
       "      <td>NaN</td>\n",
       "      <td>NaN</td>\n",
       "    </tr>\n",
       "    <tr>\n",
       "      <th>531239</th>\n",
       "      <td>1427472</td>\n",
       "      <td>Chest discomfort</td>\n",
       "      <td>24.0</td>\n",
       "      <td>NaN</td>\n",
       "      <td>NaN</td>\n",
       "      <td>NaN</td>\n",
       "      <td>NaN</td>\n",
       "      <td>NaN</td>\n",
       "      <td>NaN</td>\n",
       "      <td>NaN</td>\n",
       "      <td>NaN</td>\n",
       "    </tr>\n",
       "    <tr>\n",
       "      <th>531240</th>\n",
       "      <td>1427475</td>\n",
       "      <td>Death</td>\n",
       "      <td>24.0</td>\n",
       "      <td>NaN</td>\n",
       "      <td>NaN</td>\n",
       "      <td>NaN</td>\n",
       "      <td>NaN</td>\n",
       "      <td>NaN</td>\n",
       "      <td>NaN</td>\n",
       "      <td>NaN</td>\n",
       "      <td>NaN</td>\n",
       "    </tr>\n",
       "    <tr>\n",
       "      <th>531241</th>\n",
       "      <td>1427476</td>\n",
       "      <td>Blood test</td>\n",
       "      <td>24.0</td>\n",
       "      <td>Muscle tightness</td>\n",
       "      <td>24.0</td>\n",
       "      <td>Pruritus</td>\n",
       "      <td>24.0</td>\n",
       "      <td>NaN</td>\n",
       "      <td>NaN</td>\n",
       "      <td>NaN</td>\n",
       "      <td>NaN</td>\n",
       "    </tr>\n",
       "  </tbody>\n",
       "</table>\n",
       "<p>540682 rows × 11 columns</p>\n",
       "</div>"
      ],
      "text/plain": [
       "        VAERS_ID           SYMPTOM1  SYMPTOMVERSION1  \\\n",
       "39251     896636         Arthralgia             24.0   \n",
       "39252     896636  Memory impairment             24.0   \n",
       "44580     902418      Hypoaesthesia             24.0   \n",
       "44591     902440           Headache             23.1   \n",
       "44594     902446           Erythema             23.1   \n",
       "...          ...                ...              ...   \n",
       "531237   1427468           Headache             24.0   \n",
       "531238   1427471          Dizziness             24.0   \n",
       "531239   1427472   Chest discomfort             24.0   \n",
       "531240   1427475              Death             24.0   \n",
       "531241   1427476         Blood test             24.0   \n",
       "\n",
       "                            SYMPTOM2  SYMPTOMVERSION2  \\\n",
       "39251              Confusional state             24.0   \n",
       "39252              Pain in extremity             24.0   \n",
       "44580   Injection site hypoaesthesia             24.0   \n",
       "44591                            NaN              NaN   \n",
       "44594                    Feeling hot             23.1   \n",
       "...                              ...              ...   \n",
       "531237       Unresponsive to stimuli             24.0   \n",
       "531238                       Syncope             24.0   \n",
       "531239                           NaN              NaN   \n",
       "531240                           NaN              NaN   \n",
       "531241              Muscle tightness             24.0   \n",
       "\n",
       "                       SYMPTOM3  SYMPTOMVERSION3          SYMPTOM4  \\\n",
       "39251                   Fatigue             24.0  Feeling abnormal   \n",
       "39252       Peripheral swelling             24.0     Physiotherapy   \n",
       "44580                       NaN              NaN               NaN   \n",
       "44591                       NaN              NaN               NaN   \n",
       "44594                  Flushing             23.1               NaN   \n",
       "...                         ...              ...               ...   \n",
       "531237                      NaN              NaN               NaN   \n",
       "531238  Unresponsive to stimuli             24.0               NaN   \n",
       "531239                      NaN              NaN               NaN   \n",
       "531240                      NaN              NaN               NaN   \n",
       "531241                 Pruritus             24.0               NaN   \n",
       "\n",
       "        SYMPTOMVERSION4         SYMPTOM5  SYMPTOMVERSION5  \n",
       "39251              24.0  Head discomfort             24.0  \n",
       "39252              24.0          Pyrexia             24.0  \n",
       "44580               NaN              NaN              NaN  \n",
       "44591               NaN              NaN              NaN  \n",
       "44594               NaN              NaN              NaN  \n",
       "...                 ...              ...              ...  \n",
       "531237              NaN              NaN              NaN  \n",
       "531238              NaN              NaN              NaN  \n",
       "531239              NaN              NaN              NaN  \n",
       "531240              NaN              NaN              NaN  \n",
       "531241              NaN              NaN              NaN  \n",
       "\n",
       "[540682 rows x 11 columns]"
      ]
     },
     "execution_count": 20,
     "metadata": {},
     "output_type": "execute_result"
    }
   ],
   "source": [
    "sym = pd.read_csv('covid_adv_sym.csv')"
   ]
  },
  {
   "cell_type": "code",
   "execution_count": 16,
   "id": "d9290bec",
   "metadata": {},
   "outputs": [
    {
     "name": "stderr",
     "output_type": "stream",
     "text": [
      "[nltk_data] Downloading package punkt to /Users/jlee/nltk_data...\n",
      "[nltk_data]   Package punkt is already up-to-date!\n",
      "[nltk_data] Downloading package averaged_perceptron_tagger to\n",
      "[nltk_data]     /Users/jlee/nltk_data...\n",
      "[nltk_data]   Package averaged_perceptron_tagger is already up-to-\n",
      "[nltk_data]       date!\n"
     ]
    },
    {
     "data": {
      "text/plain": [
       "True"
      ]
     },
     "execution_count": 16,
     "metadata": {},
     "output_type": "execute_result"
    }
   ],
   "source": [
    "import nltk\n",
    "nltk.download('punkt')\n",
    "nltk.download('averaged_perceptron_tagger')"
   ]
  },
  {
   "cell_type": "code",
   "execution_count": 17,
   "id": "f795c7ba",
   "metadata": {},
   "outputs": [],
   "source": [
    "symptom_1 = list(sym.SYMPTOM1)\n",
    "symptom_2 = list(sym.SYMPTOM2)\n",
    "symptom_3 = list(sym.SYMPTOM3)\n",
    "symptom_4 = list(sym.SYMPTOM4)\n",
    "symptom_5 = list(sym.SYMPTOM5)\n",
    "\n",
    "total_symptom = symptom_1 + symptom_2 + symptom_3 + symptom_4 + symptom_5\n",
    "total_symptom = [s for s in total_symptom if str(s) != 'nan']"
   ]
  },
  {
   "cell_type": "code",
   "execution_count": 18,
   "id": "016fe5ba",
   "metadata": {},
   "outputs": [],
   "source": [
    "total_symptom_t = []\n",
    "for s in total_symptom:\n",
    "    tokens = nltk.word_tokenize(s.lower())\n",
    "    total_symptom_t.append(tokens)"
   ]
  },
  {
   "cell_type": "code",
   "execution_count": 19,
   "id": "22b7433e",
   "metadata": {},
   "outputs": [],
   "source": [
    "def flatten(lst):\n",
    "    return[item for sublist in lst for item in sublist]\n",
    "\n",
    "total_symptom_lst = flatten(total_symptom_t)"
   ]
  },
  {
   "cell_type": "code",
   "execution_count": 20,
   "id": "a1f01983",
   "metadata": {},
   "outputs": [],
   "source": [
    "freq = nltk.FreqDist(total_symptom_lst)"
   ]
  },
  {
   "cell_type": "code",
   "execution_count": 22,
   "id": "9babfc28",
   "metadata": {},
   "outputs": [],
   "source": [
    "symptom_1 = list(sym.SYMPTOM1.unique())\n",
    "symptom_2 = list(sym.SYMPTOM2.unique())\n",
    "symptom_3 = list(sym.SYMPTOM3.unique())\n",
    "symptom_4 = list(sym.SYMPTOM4.unique())\n",
    "symptom_5 = list(sym.SYMPTOM5.unique())\n",
    "\n",
    "symptom_lst_unique = symptom_1 + symptom_2 + symptom_3 + symptom_4 + symptom_5\n",
    "symptom_lst_unique = set(symptom_lst_unique)\n",
    "symptom_lst_unique = [s for s in symptom_lst_unique if str(s) != 'nan']"
   ]
  },
  {
   "cell_type": "code",
   "execution_count": 23,
   "id": "5d3ef1d8",
   "metadata": {},
   "outputs": [
    {
     "data": {
      "text/plain": [
       "8664"
      ]
     },
     "execution_count": 23,
     "metadata": {},
     "output_type": "execute_result"
    }
   ],
   "source": [
    "len(symptom_lst_unique)"
   ]
  },
  {
   "cell_type": "code",
   "execution_count": 26,
   "id": "bc5ea5ec",
   "metadata": {},
   "outputs": [],
   "source": [
    "# string match function to extract symptoms\n",
    "\n",
    "def symptomfind(symptom_category, symptom_column):\n",
    "    index_list = []\n",
    "    match_list = []\n",
    "    for index, symp in symptom_column.items():\n",
    "        if symp.lower() in symptom_category:\n",
    "            match_list.append(symp)\n",
    "            index_list.append(index)\n",
    "            \n",
    "    return index_list, match_list "
   ]
  },
  {
   "cell_type": "code",
   "execution_count": 19,
   "id": "79a88369",
   "metadata": {},
   "outputs": [],
   "source": [
    "def symptomfind(symptom_category, symptom_column):\n",
    "    index_list = []\n",
    "    match_list = []\n",
    "    for index, symp in symptom_column.items():\n",
    "        if re.findall(r\"(?=(\"+'|'.join(symptom_category)+r\"))\", str(symp).lower()):\n",
    "            match_list.append(symp)\n",
    "            index_list.append(index)\n",
    "        \n",
    "    return index_list, match_list "
   ]
  },
  {
   "cell_type": "code",
   "execution_count": 25,
   "id": "a9b05ab0",
   "metadata": {},
   "outputs": [],
   "source": [
    "# check for every symptom column to get unique set\n",
    "def unique_symptoms(symptom_category):\n",
    "    symptom_columns = ['SYMPTOM1', 'SYMPTOM2', 'SYMPTOM3', 'SYMPTOM4', 'SYMPTOM5']\n",
    "    syms = []\n",
    "    for cols in symptom_columns:\n",
    "        ind_list, sym_list = symptomfind(symptom_category, sym[cols])\n",
    "        syms.extend(sym_list)\n",
    "        \n",
    "    unique_syms = list(set(syms))\n",
    "    return(unique_syms)  "
   ]
  },
  {
   "cell_type": "code",
   "execution_count": 155,
   "id": "18f053fa",
   "metadata": {},
   "outputs": [],
   "source": [
    "def symptom_info(symptom_category):\n",
    "    symptom_columns = ['SYMPTOM1', 'SYMPTOM2', 'SYMPTOM3', 'SYMPTOM4', 'SYMPTOM5']\n",
    "    syms = []\n",
    "    for cols in symptom_columns:\n",
    "        ind_list, sym_list = symptomfind(symptom_category, sym[cols])\n",
    "        syms.extend(sym_list)\n",
    "        \n",
    "    sym_dict = {s : syms.count(s) for s in syms}\n",
    "    return(sym_dict)"
   ]
  },
  {
   "cell_type": "markdown",
   "id": "1a0bec68",
   "metadata": {},
   "source": [
    "#### Joint Issues"
   ]
  },
  {
   "cell_type": "code",
   "execution_count": 26,
   "id": "15ed403f",
   "metadata": {},
   "outputs": [],
   "source": [
    "joint = ['joint', 'arthralgia', 'arthritis']\n",
    "joint_symptom = unique_symptoms(joint)"
   ]
  },
  {
   "cell_type": "code",
   "execution_count": 27,
   "id": "649cda92",
   "metadata": {},
   "outputs": [],
   "source": [
    "symptom_lst_unique = [s for s in symptom_lst_unique if s not in joint_symptom]"
   ]
  },
  {
   "cell_type": "code",
   "execution_count": 28,
   "id": "0c8d690f",
   "metadata": {},
   "outputs": [],
   "source": [
    "remove_list = ['Magnetic resonance imaging joint', 'Ultrasound joint',\n",
    "                   'Joint injection', 'Joint stabilisation', 'Joint arthroplasty',\n",
    "                    'Physical examination of joints abnormal','Joint range of motion measurement',\n",
    "                    'Temporomandibular joint surgery', 'Joint dislocation reduction']\n",
    "\n",
    "joint_symptom = [i for i in joint_symptom if i not in remove_list]"
   ]
  },
  {
   "cell_type": "code",
   "execution_count": 29,
   "id": "80c520a2",
   "metadata": {},
   "outputs": [],
   "source": [
    "symptom_dict = {'Joint issues': joint_symptom}"
   ]
  },
  {
   "cell_type": "code",
   "execution_count": 30,
   "id": "61bd49a4",
   "metadata": {},
   "outputs": [],
   "source": [
    "symptom_dict['Joint issues'].append('Rheumatic fever')"
   ]
  },
  {
   "cell_type": "markdown",
   "id": "0a7bbe5f",
   "metadata": {},
   "source": [
    "#### Pain"
   ]
  },
  {
   "cell_type": "code",
   "execution_count": 326,
   "id": "a27c0143",
   "metadata": {},
   "outputs": [],
   "source": [
    "pain = ['pain']\n",
    "pain_symptom = unique_symptoms(pain)\n",
    "symptom_lst_unique = [s for s in symptom_lst_unique if s not in pain_symptom]"
   ]
  },
  {
   "cell_type": "code",
   "execution_count": 327,
   "id": "40c63bed",
   "metadata": {},
   "outputs": [],
   "source": [
    "remove_list = ['Pain in extremity','Pain assessment', 'Chest pain']\n",
    "pain_symptom = [i for i in pain_symptom if i not in remove_list]"
   ]
  },
  {
   "cell_type": "code",
   "execution_count": 334,
   "id": "8de1cc1f",
   "metadata": {},
   "outputs": [],
   "source": [
    "symptom_dict['Pain'] = pain_symptom"
   ]
  },
  {
   "cell_type": "markdown",
   "id": "52acb4e7",
   "metadata": {},
   "source": [
    "#### Pain in extremity"
   ]
  },
  {
   "cell_type": "code",
   "execution_count": 34,
   "id": "d17ce64a",
   "metadata": {},
   "outputs": [],
   "source": [
    "pain_ex = ['pain in extremity']\n",
    "pain_ex_symptom = unique_symptoms(pain_ex)\n",
    "symptom_lst_unique = [s for s in symptom_lst_unique if s not in pain_ex_symptom]\n",
    "symptom_dict['Pain_extreme']: pain_ex_symptom"
   ]
  },
  {
   "cell_type": "markdown",
   "id": "9908b6ae",
   "metadata": {},
   "source": [
    "#### Headache"
   ]
  },
  {
   "cell_type": "code",
   "execution_count": 35,
   "id": "411d9a8b",
   "metadata": {},
   "outputs": [],
   "source": [
    "headache = ['headache']\n",
    "head_symptom = unique_symptoms(headache)\n",
    "symptom_lst_unique = [s for s in symptom_lst_unique if s not in head_symptom]\n",
    "symptom_dict['Headache'] = head_symptom"
   ]
  },
  {
   "cell_type": "markdown",
   "id": "6bd0296c",
   "metadata": {},
   "source": [
    "#### Pyrexia"
   ]
  },
  {
   "cell_type": "code",
   "execution_count": 37,
   "id": "1b7f8d0a",
   "metadata": {},
   "outputs": [],
   "source": [
    "pyrexia = ['pyrexia', 'fever']\n",
    "pyrexia_symptom = unique_symptoms(pyrexia)\n",
    "symptom_lst_unique = [s for s in symptom_lst_unique if s not in pyrexia_symptom]\n",
    "remove_list = ['Rheumatic fever']\n",
    "pyrexia_symptom = [i for i in pyrexia_symptom if i not in remove_list]\n",
    "symptom_dict['Pyrexia'] = pyrexia_symptom"
   ]
  },
  {
   "cell_type": "markdown",
   "id": "37ce7049",
   "metadata": {},
   "source": [
    "#### Fatigue"
   ]
  },
  {
   "cell_type": "code",
   "execution_count": 38,
   "id": "14fadb6e",
   "metadata": {},
   "outputs": [],
   "source": [
    "fatigue = ['fatigue', 'tireness', 'tire']\n",
    "fatigue_symptom = unique_symptoms(fatigue)\n",
    "remove_list = ['Respiratory fatigue']\n",
    "fatigue_symptom = [i for i in fatigue_symptom if i not in remove_list]\n",
    "symptom_lst_unique = [s for s in symptom_lst_unique if s not in fatigue_symptom]\n",
    "symptom_dict['Fatigue'] = fatigue_symptom"
   ]
  },
  {
   "cell_type": "markdown",
   "id": "74cc97ff",
   "metadata": {},
   "source": [
    "#### Chills"
   ]
  },
  {
   "cell_type": "code",
   "execution_count": 39,
   "id": "18c60222",
   "metadata": {},
   "outputs": [],
   "source": [
    "chills = ['chill', 'cold']\n",
    "chills_symptom = unique_symptoms(chills)\n",
    "remove_list = ['Cold agglutinins','Cold agglutinins negative',\n",
    "               'Cold-stimulus headache','Cold agglutinins positive',\n",
    "               'Peripheral coldness','Cold urticaria','Cold burn', \n",
    "               'Reversed hot-cold sensation', 'Chillblains'\n",
    "               ]\n",
    "chills_symptom = [i for i in chills_symptom if i not in remove_list]\n",
    "symptom_lst_unique = [s for s in symptom_lst_unique if s not in chills_symptom]\n",
    "symptom_dict['Chills'] = chills_symptom"
   ]
  },
  {
   "cell_type": "markdown",
   "id": "7e667af4",
   "metadata": {},
   "source": [
    "#### Swelling"
   ]
  },
  {
   "cell_type": "code",
   "execution_count": 40,
   "id": "1d1a04ef",
   "metadata": {},
   "outputs": [],
   "source": [
    "swelling = ['swelling', 'swollen']\n",
    "swelling_symptom = unique_symptoms(swelling)\n",
    "symptom_lst_unique = [s for s in symptom_lst_unique if s not in swelling_symptom]\n",
    "symptom_dict['Swelling'] = swelling_symptom"
   ]
  },
  {
   "cell_type": "markdown",
   "id": "de003519",
   "metadata": {},
   "source": [
    "#### Rash"
   ]
  },
  {
   "cell_type": "code",
   "execution_count": 41,
   "id": "268e4bc7",
   "metadata": {},
   "outputs": [],
   "source": [
    "rash = ['rash']\n",
    "rash_symptom = unique_symptoms(rash)\n",
    "symptom_lst_unique = [s for s in symptom_lst_unique if s not in rash_symptom]\n",
    "symptom_dict['Rash'] = rash_symptom"
   ]
  },
  {
   "cell_type": "markdown",
   "id": "39bbb368",
   "metadata": {},
   "source": [
    "#### Dizziness"
   ]
  },
  {
   "cell_type": "code",
   "execution_count": 42,
   "id": "1f0cd7d4",
   "metadata": {},
   "outputs": [],
   "source": [
    "dizziness = ['dizziness', 'dizzy']\n",
    "dizz_symptom = unique_symptoms(dizziness)\n",
    "symptom_lst_unique = [s for s in symptom_lst_unique if s not in dizz_symptom]\n",
    "symptom_dict['Dizziness'] = dizz_symptom"
   ]
  },
  {
   "cell_type": "markdown",
   "id": "38fcc1eb",
   "metadata": {},
   "source": [
    "#### Nausea"
   ]
  },
  {
   "cell_type": "code",
   "execution_count": 44,
   "id": "d07d8c76",
   "metadata": {},
   "outputs": [],
   "source": [
    "nausea = ['nausea', 'queasy stomach']\n",
    "nausea_symptom = unique_symptoms(nausea)\n",
    "symptom_lst_unique = [s for s in symptom_lst_unique if s not in nausea_symptom]\n",
    "symptom_dict['Nausea'] = nausea_symptom"
   ]
  },
  {
   "cell_type": "markdown",
   "id": "e22d1849",
   "metadata": {},
   "source": [
    "#### Pruritus"
   ]
  },
  {
   "cell_type": "code",
   "execution_count": 138,
   "id": "8768a1f4",
   "metadata": {},
   "outputs": [],
   "source": [
    "pruritus = ['pruritus', 'skin itchness', 'itchy skin', 'pruritic']\n",
    "pruritus_symptom = unique_symptoms(pruritus)\n",
    "symptom_lst_unique = [s for s in symptom_lst_unique if s not in pruritus_symptom]\n",
    "symptom_dict['Pruritus'] = pruritus_symptom"
   ]
  },
  {
   "cell_type": "markdown",
   "id": "1b62f2c3",
   "metadata": {},
   "source": [
    "#### Erythema"
   ]
  },
  {
   "cell_type": "code",
   "execution_count": 50,
   "id": "38701275",
   "metadata": {},
   "outputs": [],
   "source": [
    "erythema = ['erythema']\n",
    "erythema_symptom = unique_symptoms(erythema)\n",
    "symptom_lst_unique = [s for s in symptom_lst_unique if s not in erythema_symptom]\n",
    "symptom_dict['Erythema'] = erythema_symptom"
   ]
  },
  {
   "cell_type": "markdown",
   "id": "e3ff45cf",
   "metadata": {},
   "source": [
    "#### Chest pain"
   ]
  },
  {
   "cell_type": "code",
   "execution_count": 324,
   "id": "00a79552",
   "metadata": {},
   "outputs": [],
   "source": [
    "chest_pain = ['chest', 'cardiac discomfort']\n",
    "chest_symptom = unique_symptoms(chest_pain)\n",
    "remove_list = ['Ultrasound chest', 'Flat chest', 'Chest X-ray normal',\n",
    "               'Chest scan', 'Chest X-ray', 'Biopsy chest wall', \n",
    "               'Chest wall mass', 'Chest wall abscess', 'Chest wall haematoma',\n",
    "               'Chest X-ray abnormal', 'Chest tube insertion', 'Chest expansion decreased',\n",
    "              'Chest injury']\n",
    "chest_symptom = [i for i in chest_symptom if i not in remove_list]\n",
    "symptom_lst_unique = [s for s in symptom_lst_unique if s not in chest_symptom]\n",
    "\n",
    "\n",
    "symptom_dict['Chest_pain'] = chest_symptom"
   ]
  },
  {
   "cell_type": "markdown",
   "id": "08661784",
   "metadata": {},
   "source": [
    "#### Myalgia"
   ]
  },
  {
   "cell_type": "code",
   "execution_count": 72,
   "id": "463f2a1e",
   "metadata": {},
   "outputs": [],
   "source": [
    "myalgia = ['myalgia']\n",
    "myalgia_symptom = unique_symptoms(myalgia)\n",
    "symptom_lst_unique = [s for s in symptom_lst_unique if s not in myalgia_symptom]\n",
    "\n",
    "symptom_dict['Myalgia'] = myalgia_symptom"
   ]
  },
  {
   "cell_type": "markdown",
   "id": "cdceea25",
   "metadata": {},
   "source": [
    "#### Dyspnoea"
   ]
  },
  {
   "cell_type": "code",
   "execution_count": 75,
   "id": "b5f404aa",
   "metadata": {},
   "outputs": [],
   "source": [
    "dyspnoea = ['dyspnoea', 'short breath']\n",
    "dyspnoea_symptom = unique_symptoms(dyspnoea)\n",
    "symptom_lst_unique = [s for s in symptom_lst_unique if s not in dyspnoea_symptom]\n",
    "\n",
    "symptom_dict['Dyspnoea'] = dyspnoea_symptom"
   ]
  },
  {
   "cell_type": "markdown",
   "id": "a969cab7",
   "metadata": {},
   "source": [
    "#### Paraesthesia"
   ]
  },
  {
   "cell_type": "code",
   "execution_count": 78,
   "id": "e1d67ea3",
   "metadata": {},
   "outputs": [],
   "source": [
    "paraesthesia = ['paraesthesia']\n",
    "paraesthesia_symptom = unique_symptoms(paraesthesia)\n",
    "symptom_lst_unique = [s for s in symptom_lst_unique if s not in paraesthesia_symptom]\n",
    "\n",
    "symptom_dict['Paraesthesia'] = paraesthesia_symptom"
   ]
  },
  {
   "cell_type": "markdown",
   "id": "7d43ef5d",
   "metadata": {},
   "source": [
    "#### Hypoaesthesia"
   ]
  },
  {
   "cell_type": "code",
   "execution_count": 82,
   "id": "984d804c",
   "metadata": {},
   "outputs": [],
   "source": [
    "hypoaesthesia = ['hypoaesthesia']\n",
    "hypoaesthesia_symptom = unique_symptoms(hypoaesthesia)\n",
    "symptom_lst_unique = [s for s in symptom_lst_unique if s not in hypoaesthesia_symptom]\n",
    "\n",
    "symptom_dict['Hypoaesthesia'] = hypoaesthesia_symptom"
   ]
  },
  {
   "cell_type": "markdown",
   "id": "8255acfc",
   "metadata": {},
   "source": [
    "#### Asthenia"
   ]
  },
  {
   "cell_type": "code",
   "execution_count": 88,
   "id": "4f232c51",
   "metadata": {},
   "outputs": [],
   "source": [
    "asthenia = ['asthenia']\n",
    "asthenia_symptom = unique_symptoms(asthenia)\n",
    "remove_list = ['Myasthenia gravis', 'Ocular myasthenia',\n",
    "              'Myasthenia gravis crisis']\n",
    "asthenia_symptom = [i for i in asthenia_symptom if i not in remove_list]\n",
    "symptom_lst_unique = [s for s in symptom_lst_unique if s not in asthenia_symptom]\n",
    "\n",
    "symptom_dict['Asthenia'] = asthenia_symptom"
   ]
  },
  {
   "cell_type": "markdown",
   "id": "91844e3c",
   "metadata": {},
   "source": [
    "#### Muscle weakness"
   ]
  },
  {
   "cell_type": "code",
   "execution_count": 91,
   "id": "873875fe",
   "metadata": {},
   "outputs": [],
   "source": [
    "muscle_weakness = ['myasthenia', 'muscle weakness']\n",
    "muscle_weakness_symptom = unique_symptoms(muscle_weakness)\n",
    "symptom_lst_unique = [s for s in symptom_lst_unique if s not in muscle_weakness_symptom]\n",
    "\n",
    "symptom_dict['Muscle_weakness'] = muscle_weakness_symptom"
   ]
  },
  {
   "cell_type": "markdown",
   "id": "2b26e931",
   "metadata": {},
   "source": [
    "#### Muscle tightness"
   ]
  },
  {
   "cell_type": "code",
   "execution_count": 241,
   "id": "1633aafb",
   "metadata": {},
   "outputs": [],
   "source": [
    "muscle_tightness = ['muscle tightness']\n",
    "muscle_tightness_symptom = unique_symptoms(muscle_tightness)\n",
    "symptom_lst_unique = [s for s in symptom_lst_unique if s not in muscle_tightness_symptom]\n",
    "\n",
    "symptom_dict['Muscle_tightness'] = muscle_tightness_symptom"
   ]
  },
  {
   "cell_type": "markdown",
   "id": "d0af45de",
   "metadata": {},
   "source": [
    "#### Vomiting"
   ]
  },
  {
   "cell_type": "code",
   "execution_count": 95,
   "id": "5765869a",
   "metadata": {},
   "outputs": [],
   "source": [
    "vomiting = ['vomiting', 'throw up']\n",
    "vomiting_symptom = unique_symptoms(vomiting)\n",
    "symptom_lst_unique = [s for s in symptom_lst_unique if s not in vomiting_symptom]\n",
    "\n",
    "symptom_dict['Vomiting'] = vomiting_symptom"
   ]
  },
  {
   "cell_type": "markdown",
   "id": "bfd5c514",
   "metadata": {},
   "source": [
    "#### Hyperhidrosis"
   ]
  },
  {
   "cell_type": "code",
   "execution_count": 103,
   "id": "19109904",
   "metadata": {},
   "outputs": [],
   "source": [
    "hyperhidrosis = ['hyperhidrosis', 'sweating']\n",
    "hyperhidrosis_symptom = unique_symptoms(hyperhidrosis)\n",
    "symptom_lst_unique = [s for s in symptom_lst_unique if s not in hyperhidrosis_symptom]\n",
    "\n",
    "symptom_dict['Hyperhidrosis'] = hyperhidrosis_symptom"
   ]
  },
  {
   "cell_type": "markdown",
   "id": "1a20638c",
   "metadata": {},
   "source": [
    "#### Urticaria"
   ]
  },
  {
   "cell_type": "code",
   "execution_count": 108,
   "id": "73c225d4",
   "metadata": {},
   "outputs": [],
   "source": [
    "urticaria = ['urticaria', 'hives', 'weals', 'nettle rash']\n",
    "urticaria_symptom = unique_symptoms(urticaria)\n",
    "symptom_lst_unique = [s for s in symptom_lst_unique if s not in urticaria_symptom]\n",
    "\n",
    "symptom_dict['Urticaria'] = urticaria_symptom"
   ]
  },
  {
   "cell_type": "markdown",
   "id": "24b35f6f",
   "metadata": {},
   "source": [
    "#### Diarrhoea"
   ]
  },
  {
   "cell_type": "code",
   "execution_count": 112,
   "id": "11a0fcca",
   "metadata": {},
   "outputs": [],
   "source": [
    "diarrhoea = ['diarrhoea', 'loose stool']\n",
    "diarrhoea_symptom = unique_symptoms(diarrhoea)\n",
    "symptom_lst_unique = [s for s in symptom_lst_unique if s not in diarrhoea_symptom]\n",
    "\n",
    "symptom_dict['Diarrhoea'] = diarrhoea_symptom"
   ]
  },
  {
   "cell_type": "markdown",
   "id": "81db629f",
   "metadata": {},
   "source": [
    "#### Abdominal issues"
   ]
  },
  {
   "cell_type": "code",
   "execution_count": 115,
   "id": "3758ff48",
   "metadata": {},
   "outputs": [],
   "source": [
    "abdominal = ['abdominal']\n",
    "abdominal_symptom = unique_symptoms(abdominal)\n",
    "symptom_lst_unique = [s for s in symptom_lst_unique if s not in abdominal_symptom]\n",
    "remove_list = ['Abdominal X-ray','Biopsy abdominal wall', 'Intra-abdominal fluid collection',\n",
    "              'Abdominal exploration', 'Biopsy abdominal wall normal',\n",
    "              'Abdominal operation', 'Magnetic resonance imaging abdominal',\n",
    "              'Magnetic resonance imaging abdominal normal', 'Abdominal cavity drainage']\n",
    "abdominal_symptom = [i for i in abdominal_symptom if i not in remove_list]\n",
    "\n",
    "symptom_dict['Abdominal'] = abdominal_symptom"
   ]
  },
  {
   "cell_type": "markdown",
   "id": "ff7ac812",
   "metadata": {},
   "source": [
    "#### Malaise"
   ]
  },
  {
   "cell_type": "code",
   "execution_count": 123,
   "id": "f309f4f5",
   "metadata": {},
   "outputs": [],
   "source": [
    "malaise = ['malaise']\n",
    "malaise_symptom = unique_symptoms(malaise)\n",
    "symptom_lst_unique = [s for s in symptom_lst_unique if s not in malaise_symptom]\n",
    "\n",
    "symptom_dict['Malaise'] = malaise_symptom"
   ]
  },
  {
   "cell_type": "markdown",
   "id": "bf53951d",
   "metadata": {},
   "source": [
    "#### Cough"
   ]
  },
  {
   "cell_type": "code",
   "execution_count": 124,
   "id": "51137f79",
   "metadata": {},
   "outputs": [],
   "source": [
    "cough = ['cough']\n",
    "cough_symptom = unique_symptoms(cough)\n",
    "symptom_lst_unique = [s for s in symptom_lst_unique if s not in cough_symptom]\n",
    "\n",
    "symptom_dict['Cough'] = cough_symptom"
   ]
  },
  {
   "cell_type": "markdown",
   "id": "435a578a",
   "metadata": {},
   "source": [
    "#### Tinnitus"
   ]
  },
  {
   "cell_type": "code",
   "execution_count": 129,
   "id": "ce17eac6",
   "metadata": {},
   "outputs": [],
   "source": [
    "tinnitus = ['tinnitus']\n",
    "tinnitus_symptom = unique_symptoms(tinnitus)\n",
    "symptom_lst_unique = [s for s in symptom_lst_unique if s not in tinnitus_symptom]\n",
    "\n",
    "symptom_dict['Tinnitus'] = tinnitus_symptom"
   ]
  },
  {
   "cell_type": "markdown",
   "id": "e33ca63b",
   "metadata": {},
   "source": [
    "#### Palpitations"
   ]
  },
  {
   "cell_type": "code",
   "execution_count": 132,
   "id": "957f1b87",
   "metadata": {},
   "outputs": [],
   "source": [
    "palpitations = ['palpitations']\n",
    "palpitations_symptom = unique_symptoms(palpitations)\n",
    "symptom_lst_unique = [s for s in symptom_lst_unique if s not in palpitations_symptom]\n",
    "\n",
    "symptom_dict['Palpitations'] = palpitations_symptom"
   ]
  },
  {
   "cell_type": "code",
   "execution_count": 141,
   "id": "864882be",
   "metadata": {},
   "outputs": [
    {
     "data": {
      "text/plain": [
       "26"
      ]
     },
     "execution_count": 141,
     "metadata": {},
     "output_type": "execute_result"
    }
   ],
   "source": [
    "len(symptom_dict.keys())"
   ]
  },
  {
   "cell_type": "markdown",
   "id": "d834280c",
   "metadata": {},
   "source": [
    "#### Flushing"
   ]
  },
  {
   "cell_type": "code",
   "execution_count": 395,
   "id": "82d25bbb",
   "metadata": {},
   "outputs": [],
   "source": [
    "flushing = ['flushing', 'blushing', 'hot flush']\n",
    "flushing_symptom = unique_symptoms(flushing)\n",
    "symptom_lst_unique = [s for s in symptom_lst_unique if s not in flushing_symptom]\n",
    "\n",
    "symptom_dict['Flushing'] = flushing_symptom"
   ]
  },
  {
   "cell_type": "markdown",
   "id": "0e7dc614",
   "metadata": {},
   "source": [
    "#### Blood pressure increased"
   ]
  },
  {
   "cell_type": "code",
   "execution_count": 176,
   "id": "7e439059",
   "metadata": {},
   "outputs": [],
   "source": [
    "blood_increased = ['blood']\n",
    "blood_increased_symptom = unique_symptoms(blood_increased)\n",
    "symptom_lst_unique = [s for s in symptom_lst_unique if s not in blood_increased_symptom]\n",
    "remove_list = [s for s in blood_increased_symptom if s != 'Blood pressure increased']\n",
    "blood_increased_symptom = [i for i in blood_increased_symptom if i not in remove_list]\n",
    "#blood_symptom = symptom_info(blood_increased)\n",
    "\n",
    "symptom_dict['Blood_pressure_increased'] = blood_increased_symptom"
   ]
  },
  {
   "cell_type": "markdown",
   "id": "ffd60299",
   "metadata": {},
   "source": [
    "#### Feeling abnormal"
   ]
  },
  {
   "cell_type": "code",
   "execution_count": 188,
   "id": "ca993751",
   "metadata": {},
   "outputs": [],
   "source": [
    "feeling_abnormal = ['feeling abnormal']\n",
    "feeling_abnormal_symptom = unique_symptoms(feeling_abnormal)\n",
    "symptom_lst_unique = [s for s in symptom_lst_unique if s not in feeling_abnormal_symptom]\n",
    "\n",
    "symptom_dict['Feeling_abnormal'] = feeling_abnormal_symptom"
   ]
  },
  {
   "cell_type": "markdown",
   "id": "cd1654f6",
   "metadata": {},
   "source": [
    "#### Feeling hot"
   ]
  },
  {
   "cell_type": "code",
   "execution_count": 191,
   "id": "baad9ba4",
   "metadata": {},
   "outputs": [],
   "source": [
    "feeling_hot = ['feeling hot']\n",
    "feeling_hot_symptom = unique_symptoms(feeling_hot)\n",
    "symptom_lst_unique = [s for s in symptom_lst_unique if s not in feeling_hot_symptom]\n",
    "\n",
    "symptom_dict['Feeling_hot'] = feeling_hot_symptom"
   ]
  },
  {
   "cell_type": "markdown",
   "id": "b12935c5",
   "metadata": {},
   "source": [
    "#### Tremor"
   ]
  },
  {
   "cell_type": "code",
   "execution_count": 199,
   "id": "ce93f81b",
   "metadata": {},
   "outputs": [],
   "source": [
    "tremor = ['tremor']\n",
    "tremor_symptom = unique_symptoms(tremor)\n",
    "symptom_lst_unique = [s for s in symptom_lst_unique if s not in tremor_symptom]\n",
    "\n",
    "symptom_dict['Tremor'] = tremor_symptom"
   ]
  },
  {
   "cell_type": "markdown",
   "id": "648b4b5b",
   "metadata": {},
   "source": [
    "#### Lymphadenopathy"
   ]
  },
  {
   "cell_type": "code",
   "execution_count": 202,
   "id": "b9deaad2",
   "metadata": {},
   "outputs": [],
   "source": [
    "lymphadenopathy = ['lymphadenopathy']\n",
    "lymphadenopathy_symptom = unique_symptoms(lymphadenopathy)\n",
    "symptom_lst_unique = [s for s in symptom_lst_unique if s not in lymphadenopathy_symptom]\n",
    "\n",
    "symptom_dict['Lymphadenopathy'] = lymphadenopathy_symptom"
   ]
  },
  {
   "cell_type": "markdown",
   "id": "29aa087c",
   "metadata": {},
   "source": [
    "#### Loss of consciousness"
   ]
  },
  {
   "cell_type": "code",
   "execution_count": 211,
   "id": "0f216b91",
   "metadata": {},
   "outputs": [],
   "source": [
    "syncope = ['syncope', 'loss of consciousness']\n",
    "syncope_symptom = unique_symptoms(syncope)\n",
    "symptom_lst_unique = [s for s in symptom_lst_unique if s not in syncope_symptom]\n",
    "\n",
    "symptom_dict['Syncope'] = syncope_symptom"
   ]
  },
  {
   "cell_type": "markdown",
   "id": "ef15c7fa",
   "metadata": {},
   "source": [
    "#### Throat irritation"
   ]
  },
  {
   "cell_type": "code",
   "execution_count": 356,
   "id": "f53c57db",
   "metadata": {},
   "outputs": [],
   "source": [
    "throat = ['throat', 'oropharyngeal pain', 'oropharyngeal discomfort']\n",
    "throat_symptom = unique_symptoms(throat)\n",
    "symptom_lst_unique = [s for s in symptom_lst_unique if s not in throat_symptom]\n",
    "remove_list = ['Ear, nose and throat examination normal',\n",
    "               'Culture throat negative','Throat lesion',\n",
    "               'Ear, nose and throat examination','Foreign body in throat',\n",
    "               'Ear, nose and throat examination abnormal','Culture throat positive']\n",
    "throat_symptom = [i for i in throat_symptom if i not in remove_list]\n",
    "\n",
    "symptom_dict['Throat_irritation'] = throat_symptom"
   ]
  },
  {
   "cell_type": "markdown",
   "id": "a86586bb",
   "metadata": {},
   "source": [
    "#### Unresponsive to Stimuli (include slow response)"
   ]
  },
  {
   "cell_type": "code",
   "execution_count": 218,
   "id": "d4b85800",
   "metadata": {},
   "outputs": [],
   "source": [
    "stimuli = ['stimuli']\n",
    "stimuli_symptom = unique_symptoms(stimuli)\n",
    "symptom_lst_unique = [s for s in symptom_lst_unique if s not in stimuli_symptom]\n",
    "\n",
    "symptom_dict['Unresponsive_stimuli'] = stimuli_symptom"
   ]
  },
  {
   "cell_type": "markdown",
   "id": "80bbba4a",
   "metadata": {},
   "source": [
    "#### Burning sensation"
   ]
  },
  {
   "cell_type": "code",
   "execution_count": 230,
   "id": "e3256710",
   "metadata": {},
   "outputs": [],
   "source": [
    "burning = ['burning sensation', 'skin burning sensation', 'burning']\n",
    "burning_symptom = unique_symptoms(burning)\n",
    "symptom_lst_unique = [s for s in symptom_lst_unique if s not in burning_symptom]\n",
    "\n",
    "symptom_dict['Burning_sensation'] = burning_symptom"
   ]
  },
  {
   "cell_type": "markdown",
   "id": "3d2f0a98",
   "metadata": {},
   "source": [
    "#### Other Skin issues"
   ]
  },
  {
   "cell_type": "code",
   "execution_count": 257,
   "id": "c1b51c21",
   "metadata": {},
   "outputs": [],
   "source": [
    "skin = ['skin']\n",
    "skin_symptom = unique_symptoms(skin)\n",
    "symptom_lst_unique = [s for s in symptom_lst_unique if s not in skin_symptom]\n",
    "remove_list = ['Dyskinesia', 'Exposure via skin contact',\n",
    "              'Skin lesion', 'Skin exfoliation', 'Biopsy skin', \n",
    "              'Biliary dyskinesia', 'Biopsy skin normal', 'Skin test positive',\n",
    "              'Skin test','Skin test negative', 'Skin cosmetic procedure', 'Skin implant',\n",
    "               'Congenital skin dimples','Tardive dyskinesia', 'Skin wound',\n",
    "               'Foreign body in skin or subcutaneous tissue', 'Artificial skin graft',\n",
    "               'Biliary dyskinesia',  'Ventricular dyskinesia',  'Skin laxity',\n",
    "               'Target skin lesion', 'Chemical burn of skin', 'Skin injury',\n",
    "              'Skin graft']\n",
    "skin_symptom = [i for i in skin_symptom if i not in remove_list]\n",
    "\n",
    "symptom_dict['Skin_issues'] = skin_symptom"
   ]
  },
  {
   "cell_type": "markdown",
   "id": "519dfbd1",
   "metadata": {},
   "source": [
    "#### Dyskinesia"
   ]
  },
  {
   "cell_type": "code",
   "execution_count": 261,
   "id": "75933ef7",
   "metadata": {},
   "outputs": [],
   "source": [
    "dyskinesia = ['dyskinesia']\n",
    "dyskinesia_symptom = unique_symptoms(dyskinesia)\n",
    "symptom_lst_unique = [s for s in symptom_lst_unique if s not in dyskinesia_symptom]\n",
    "\n",
    "symptom_dict['Dyskinesia'] = dyskinesia_symptom"
   ]
  },
  {
   "cell_type": "markdown",
   "id": "1b5a280b",
   "metadata": {},
   "source": [
    "#### Heart rate increased "
   ]
  },
  {
   "cell_type": "code",
   "execution_count": 271,
   "id": "4b8b4c07",
   "metadata": {},
   "outputs": [],
   "source": [
    "heart_increased = ['heart rate increased']\n",
    "heart_increased_symptom = unique_symptoms(heart_increased)\n",
    "symptom_lst_unique = [s for s in symptom_lst_unique if s not in heart_increased_symptom]\n",
    "remove_list = ['Foetal heart rate increased']\n",
    "heart_increased_symptom = [i for i in heart_increased_symptom if i not in remove_list]\n",
    "\n",
    "symptom_dict['Heart_rate_increased'] = heart_increased_symptom"
   ]
  },
  {
   "cell_type": "markdown",
   "id": "4080a21d",
   "metadata": {},
   "source": [
    "#### Heart rate decreased"
   ]
  },
  {
   "cell_type": "code",
   "execution_count": 275,
   "id": "20d6cecf",
   "metadata": {},
   "outputs": [],
   "source": [
    "heart_decreased = ['heart rate decreased']\n",
    "heart_decreased_symptom = unique_symptoms(heart_decreased)\n",
    "symptom_lst_unique = [s for s in symptom_lst_unique if s not in heart_decreased_symptom]\n",
    "remove_list = ['Foetal heart rate decreased']\n",
    "heart_decreased_symptom = [i for i in heart_increased_symptom if i not in remove_list]\n",
    "\n",
    "symptom_dict['Heart_rate_decreased'] = heart_decreased_symptom"
   ]
  },
  {
   "cell_type": "markdown",
   "id": "5a0070d4",
   "metadata": {},
   "source": [
    "#### Heart rate irregular"
   ]
  },
  {
   "cell_type": "code",
   "execution_count": 302,
   "id": "e4798138",
   "metadata": {},
   "outputs": [],
   "source": [
    "heart_irregular = ['heart rate irregular', 'cardiac flutter' ]\n",
    "heart_irregular_symptom = unique_symptoms(heart_irregular)\n",
    "symptom_lst_unique = [s for s in symptom_lst_unique if s not in heart_irregular_symptom]\n",
    "\n",
    "symptom_dict['Heart_rate_irregular'] = heart_irregular_symptom "
   ]
  },
  {
   "cell_type": "markdown",
   "id": "291eecfa",
   "metadata": {},
   "source": [
    "#### Paralysis (mainly Facial Paralysis)"
   ]
  },
  {
   "cell_type": "code",
   "execution_count": 283,
   "id": "9ac5e895",
   "metadata": {},
   "outputs": [],
   "source": [
    "paralysis = ['paralysis']\n",
    "paralysis_symptom = unique_symptoms(paralysis)\n",
    "symptom_lst_unique = [s for s in symptom_lst_unique if s not in paralysis_symptom]\n",
    "\n",
    "symptom_dict['Paralysis'] = paralysis_symptom "
   ]
  },
  {
   "cell_type": "markdown",
   "id": "73f11d4d",
   "metadata": {},
   "source": [
    "#### Tachycardia"
   ]
  },
  {
   "cell_type": "code",
   "execution_count": 288,
   "id": "1fdbd296",
   "metadata": {},
   "outputs": [],
   "source": [
    "tachycardia = ['tachycardia']\n",
    "tachycardia_symptom = unique_symptoms(tachycardia)\n",
    "symptom_lst_unique = [s for s in symptom_lst_unique if s not in tachycardia_symptom]\n",
    "remove_list = ['Tachycardia foetal']\n",
    "tachycardia_symptom = [i for i in tachycardia_symptom if i not in remove_list]\n",
    "\n",
    "symptom_dict['Tachycardia'] = tachycardia_symptom "
   ]
  },
  {
   "cell_type": "markdown",
   "id": "e9e681b0",
   "metadata": {},
   "source": [
    "#### Anaphylactic reaction"
   ]
  },
  {
   "cell_type": "code",
   "execution_count": 294,
   "id": "3fb2c1d9",
   "metadata": {},
   "outputs": [],
   "source": [
    "anaphylactic_reaction = ['anaphylactic reaction']\n",
    "reaction_symptom = unique_symptoms(anaphylactic_reaction)\n",
    "symptom_lst_unique = [s for s in symptom_lst_unique if s not in reaction_symptom]\n",
    "\n",
    "symptom_dict['Anaphylactic_reaction'] = reaction_symptom "
   ]
  },
  {
   "cell_type": "markdown",
   "id": "ca5b8939",
   "metadata": {},
   "source": [
    "#### Cardiac event (Cardiac arrest, Cardiac failure congestive, Cardiac failure..)"
   ]
  },
  {
   "cell_type": "code",
   "execution_count": 319,
   "id": "328aa615",
   "metadata": {},
   "outputs": [],
   "source": [
    "cardiac_event = ['cardiac arrest', 'cardiac failure congestive',\n",
    "                 'acute cardiac event','cardiac failure chronic',\n",
    "                 'cardiac failure', 'cardiac failure acute']\n",
    "cardiac_event_symptom = unique_symptoms(cardiac_event)\n",
    "symptom_lst_unique = [s for s in symptom_lst_unique if s not in cardiac_event_symptom]\n",
    "\n",
    "symptom_dict['Cardiac_event'] = cardiac_event_symptom"
   ]
  },
  {
   "cell_type": "markdown",
   "id": "392a9aa8",
   "metadata": {},
   "source": [
    "#### Mobility decreased"
   ]
  },
  {
   "cell_type": "code",
   "execution_count": 339,
   "id": "76907575",
   "metadata": {},
   "outputs": [],
   "source": [
    "mobility = ['mobility decreased']\n",
    "mobility_symptom = unique_symptoms(mobility)\n",
    "symptom_lst_unique = [s for s in symptom_lst_unique if s not in mobility_symptom]\n",
    "\n",
    "symptom_dict['Mobility_decreased'] = mobility_symptom"
   ]
  },
  {
   "cell_type": "markdown",
   "id": "d9423987",
   "metadata": {},
   "source": [
    "#### Stroke"
   ]
  },
  {
   "cell_type": "code",
   "execution_count": 345,
   "id": "72006a72",
   "metadata": {},
   "outputs": [],
   "source": [
    "stroke = ['cerebrovascular accident']\n",
    "stroke_symptom = unique_symptoms(stroke)\n",
    "symptom_lst_unique = [s for s in symptom_lst_unique if s not in stroke_symptom]\n",
    "\n",
    "symptom_dict['Stroke'] = stroke_symptom"
   ]
  },
  {
   "cell_type": "markdown",
   "id": "09e0e22c",
   "metadata": {},
   "source": [
    "#### Influenza like ilness"
   ]
  },
  {
   "cell_type": "code",
   "execution_count": 360,
   "id": "88fe6e40",
   "metadata": {},
   "outputs": [],
   "source": [
    "influenza = ['influenza', 'influenza like illness']\n",
    "influenza_symptom = unique_symptoms(influenza)\n",
    "symptom_lst_unique = [s for s in symptom_lst_unique if s not in influenza_symptom]\n",
    "\n",
    "symptom_dict['Influenza'] = influenza_symptom"
   ]
  },
  {
   "cell_type": "markdown",
   "id": "ab16418b",
   "metadata": {},
   "source": [
    "#### SARS-COV-2"
   ]
  },
  {
   "cell_type": "code",
   "execution_count": 378,
   "id": "a0ac69f3",
   "metadata": {},
   "outputs": [],
   "source": [
    "sars_cov_2 = ['sars-cov-2 test positive']\n",
    "covid_symptom = unique_symptoms(sars_cov_2)\n",
    "symptom_lst_unique = [s for s in symptom_lst_unique if s not in covid_symptom]\n",
    "\n",
    "symptom_dict['SARS-COV-2'] = covid_symptom"
   ]
  },
  {
   "cell_type": "markdown",
   "id": "05a37ef5",
   "metadata": {},
   "source": [
    "#### Appetite decreased"
   ]
  },
  {
   "cell_type": "code",
   "execution_count": 382,
   "id": "50d6d4b0",
   "metadata": {},
   "outputs": [],
   "source": [
    "appetite = ['decreased appetite']\n",
    "appetite_symptom = unique_symptoms(appetite)\n",
    "symptom_lst_unique = [s for s in symptom_lst_unique if s not in appetite_symptom]\n",
    "\n",
    "symptom_dict['Appetite_decreased'] = appetite_symptom"
   ]
  },
  {
   "cell_type": "markdown",
   "id": "8da8db32",
   "metadata": {},
   "source": [
    "#### Induration"
   ]
  },
  {
   "cell_type": "code",
   "execution_count": 391,
   "id": "485bb675",
   "metadata": {},
   "outputs": [],
   "source": [
    "induration = ['induration']\n",
    "induration_symptom = unique_symptoms(induration)\n",
    "symptom_lst_unique = [s for s in symptom_lst_unique if s not in induration_symptom]\n",
    "\n",
    "symptom_dict['Induration'] = induration_symptom"
   ]
  },
  {
   "cell_type": "markdown",
   "id": "372e365e",
   "metadata": {},
   "source": [
    "#### Sleep disorder"
   ]
  },
  {
   "cell_type": "code",
   "execution_count": 403,
   "id": "000fa7b3",
   "metadata": {},
   "outputs": [],
   "source": [
    "sleep = ['sleep disorder']\n",
    "sleep_symptom = unique_symptoms(sleep)\n",
    "symptom_lst_unique = [s for s in symptom_lst_unique if s not in sleep_symptom]\n",
    "\n",
    "symptom_dict['Sleep disorder'] = sleep_symptom"
   ]
  },
  {
   "cell_type": "markdown",
   "id": "2754d92e",
   "metadata": {},
   "source": [
    "#### Condition aggravated"
   ]
  },
  {
   "cell_type": "code",
   "execution_count": 418,
   "id": "84458cbd",
   "metadata": {},
   "outputs": [],
   "source": [
    "condition = ['condition aggravated']\n",
    "condition_symptom = unique_symptoms(condition)\n",
    "symptom_lst_unique = [s for s in symptom_lst_unique if s not in condition_symptom]\n",
    "\n",
    "symptom_dict['Condition_aggravated'] = condition_symptom"
   ]
  },
  {
   "cell_type": "code",
   "execution_count": 428,
   "id": "aa01015e",
   "metadata": {},
   "outputs": [],
   "source": [
    "# Saving dict\n",
    "p = open('symptom.pkl', 'wb')\n",
    "pickle.dump(symptom_dict, p)\n",
    "p.close()"
   ]
  },
  {
   "cell_type": "code",
   "execution_count": 429,
   "id": "fa319a84",
   "metadata": {},
   "outputs": [],
   "source": [
    "# Loading the dict \n",
    "p = open('symptom.pkl', 'rb')\n",
    "output = pickle.load(p)\n",
    "\n",
    "output\n",
    "p.close()"
   ]
  },
  {
   "cell_type": "code",
   "execution_count": 416,
   "id": "f2d775c4",
   "metadata": {},
   "outputs": [],
   "source": [
    "test = ['loss']\n",
    "test_symptom = symptom_info(test)"
   ]
  },
  {
   "cell_type": "code",
   "execution_count": null,
   "id": "cd7c95b9",
   "metadata": {},
   "outputs": [],
   "source": [
    "test_symptom = unique_symptoms(test)\n",
    "symptom_lst_unique = [s for s in symptom_lst_unique if s not in test_symptom]"
   ]
  },
  {
   "cell_type": "code",
   "execution_count": 417,
   "id": "704585de",
   "metadata": {},
   "outputs": [
    {
     "data": {
      "text/plain": [
       "{'Loss of consciousness': 7173,\n",
       " 'Loss of personal independence in daily activities': 2483,\n",
       " 'Glossitis': 91,\n",
       " 'Glossodynia': 351,\n",
       " 'Sensory loss': 310,\n",
       " 'Trichoglossia': 5,\n",
       " 'Abnormal loss of weight': 33,\n",
       " 'Macroglossia': 2,\n",
       " 'Sudden hearing loss': 157,\n",
       " 'Ankyloglossia congenital': 2,\n",
       " 'Tooth loss': 6,\n",
       " 'Loss of control of legs': 40,\n",
       " 'Central vision loss': 4,\n",
       " 'Loss of bladder sensation': 11,\n",
       " 'Loss of proprioception': 10,\n",
       " 'Sudden visual loss': 11,\n",
       " 'Thyroglossal cyst': 2,\n",
       " 'Hypoglossal nerve paresis': 1,\n",
       " 'Blood loss anaemia': 17,\n",
       " 'Loss of libido': 8,\n",
       " 'Glossopharyngeal neuralgia': 1,\n",
       " 'Loss of dreaming': 1,\n",
       " 'Loss of employment': 1,\n",
       " 'Hypoglossal nerve paralysis': 1}"
      ]
     },
     "execution_count": 417,
     "metadata": {},
     "output_type": "execute_result"
    }
   ],
   "source": [
    "test_symptom"
   ]
  },
  {
   "cell_type": "markdown",
   "id": "f9e53338",
   "metadata": {},
   "source": [
    "## Creating Symtom dataset for Statistical Analysis"
   ]
  },
  {
   "cell_type": "code",
   "execution_count": 17,
   "id": "9d99e271",
   "metadata": {},
   "outputs": [],
   "source": [
    "# Loading the symptom dictionary  \n",
    "p = open('symptom.pkl', 'rb')\n",
    "symptom_dict = pickle.load(p)\n",
    "p.close()"
   ]
  },
  {
   "cell_type": "code",
   "execution_count": 78,
   "id": "33026b15",
   "metadata": {},
   "outputs": [],
   "source": [
    "symptom_columns = ['SYMPTOM1', 'SYMPTOM2', 'SYMPTOM3', 'SYMPTOM4', 'SYMPTOM5']\n",
    "symptom_idx = {}\n",
    "for key in symptom_dict:\n",
    "    idx_lsts = []\n",
    "    for cols in symptom_columns:\n",
    "        idx_lst, sym_lst = symptomfind(list(map(str.lower, symptom_dict[key])), sym[cols])\n",
    "        idx_lsts.extend(idx_lst)\n",
    "    \n",
    "    symptom_idx[key] = idx_lsts"
   ]
  },
  {
   "cell_type": "code",
   "execution_count": 79,
   "id": "35fa0689",
   "metadata": {},
   "outputs": [],
   "source": [
    "symptom_ID = {}\n",
    "\n",
    "for key in symptom_idx:\n",
    "    symptom_ID[key] = [sym.iloc[i].VAERS_ID for i in symptom_idx[key]]"
   ]
  },
  {
   "cell_type": "code",
   "execution_count": 80,
   "id": "059fa7f1",
   "metadata": {},
   "outputs": [],
   "source": [
    "symptom_ID['Joint_issues'] = symptom_ID['Joint issues']"
   ]
  },
  {
   "cell_type": "code",
   "execution_count": 81,
   "id": "3deeaadd",
   "metadata": {},
   "outputs": [],
   "source": [
    "del symptom_ID['Joint issues']"
   ]
  },
  {
   "cell_type": "code",
   "execution_count": null,
   "id": "8f550851",
   "metadata": {},
   "outputs": [],
   "source": [
    "for key in symptom_ID:\n",
    "    lst = []\n",
    "    for ID in covid_adv.VAERS_ID:\n",
    "        if ID in symptom_ID[key]:\n",
    "            lst.append('Yes')\n",
    "        else:\n",
    "            lst.append('No')\n",
    "    covid_adv[key] = lst"
   ]
  },
  {
   "cell_type": "code",
   "execution_count": 86,
   "id": "83369a92",
   "metadata": {},
   "outputs": [],
   "source": [
    "for key in symptom_ID:\n",
    "    lst = ['Yes' if ID in symptom_ID[key] else 'No' for ID in covid_adv.VAERS_ID]\n",
    "    covid_adv[key] = lst"
   ]
  },
  {
   "cell_type": "code",
   "execution_count": 87,
   "id": "ef2789a6",
   "metadata": {},
   "outputs": [
    {
     "data": {
      "text/html": [
       "<div>\n",
       "<style scoped>\n",
       "    .dataframe tbody tr th:only-of-type {\n",
       "        vertical-align: middle;\n",
       "    }\n",
       "\n",
       "    .dataframe tbody tr th {\n",
       "        vertical-align: top;\n",
       "    }\n",
       "\n",
       "    .dataframe thead th {\n",
       "        text-align: right;\n",
       "    }\n",
       "</style>\n",
       "<table border=\"1\" class=\"dataframe\">\n",
       "  <thead>\n",
       "    <tr style=\"text-align: right;\">\n",
       "      <th></th>\n",
       "      <th>VAERS_ID</th>\n",
       "      <th>AGE_YRS</th>\n",
       "      <th>SEX</th>\n",
       "      <th>DIED</th>\n",
       "      <th>VAX_MANU</th>\n",
       "      <th>Headache</th>\n",
       "      <th>Pyrexia</th>\n",
       "      <th>Fatigue</th>\n",
       "      <th>Chills</th>\n",
       "      <th>Swelling</th>\n",
       "      <th>...</th>\n",
       "      <th>Pain</th>\n",
       "      <th>Mobility_decreased</th>\n",
       "      <th>Stroke</th>\n",
       "      <th>Influenza</th>\n",
       "      <th>SARS-COV-2</th>\n",
       "      <th>Appetite_decreased</th>\n",
       "      <th>Induration</th>\n",
       "      <th>Sleep disorder</th>\n",
       "      <th>Condition_aggravated</th>\n",
       "      <th>Joint_issues</th>\n",
       "    </tr>\n",
       "  </thead>\n",
       "  <tbody>\n",
       "    <tr>\n",
       "      <th>0</th>\n",
       "      <td>1410490</td>\n",
       "      <td>54.0</td>\n",
       "      <td>F</td>\n",
       "      <td>No</td>\n",
       "      <td>PFIZER\\BIONTECH</td>\n",
       "      <td>No</td>\n",
       "      <td>No</td>\n",
       "      <td>No</td>\n",
       "      <td>No</td>\n",
       "      <td>No</td>\n",
       "      <td>...</td>\n",
       "      <td>No</td>\n",
       "      <td>No</td>\n",
       "      <td>No</td>\n",
       "      <td>No</td>\n",
       "      <td>No</td>\n",
       "      <td>No</td>\n",
       "      <td>No</td>\n",
       "      <td>No</td>\n",
       "      <td>No</td>\n",
       "      <td>No</td>\n",
       "    </tr>\n",
       "    <tr>\n",
       "      <th>1</th>\n",
       "      <td>1413866</td>\n",
       "      <td>67.0</td>\n",
       "      <td>M</td>\n",
       "      <td>No</td>\n",
       "      <td>MODERNA</td>\n",
       "      <td>No</td>\n",
       "      <td>No</td>\n",
       "      <td>No</td>\n",
       "      <td>No</td>\n",
       "      <td>Yes</td>\n",
       "      <td>...</td>\n",
       "      <td>No</td>\n",
       "      <td>No</td>\n",
       "      <td>No</td>\n",
       "      <td>No</td>\n",
       "      <td>No</td>\n",
       "      <td>No</td>\n",
       "      <td>Yes</td>\n",
       "      <td>No</td>\n",
       "      <td>No</td>\n",
       "      <td>No</td>\n",
       "    </tr>\n",
       "    <tr>\n",
       "      <th>2</th>\n",
       "      <td>896636</td>\n",
       "      <td>47.0</td>\n",
       "      <td>F</td>\n",
       "      <td>No</td>\n",
       "      <td>MODERNA</td>\n",
       "      <td>No</td>\n",
       "      <td>No</td>\n",
       "      <td>No</td>\n",
       "      <td>No</td>\n",
       "      <td>No</td>\n",
       "      <td>...</td>\n",
       "      <td>No</td>\n",
       "      <td>No</td>\n",
       "      <td>No</td>\n",
       "      <td>No</td>\n",
       "      <td>No</td>\n",
       "      <td>No</td>\n",
       "      <td>No</td>\n",
       "      <td>No</td>\n",
       "      <td>No</td>\n",
       "      <td>No</td>\n",
       "    </tr>\n",
       "    <tr>\n",
       "      <th>3</th>\n",
       "      <td>902418</td>\n",
       "      <td>56.0</td>\n",
       "      <td>F</td>\n",
       "      <td>No</td>\n",
       "      <td>PFIZER\\BIONTECH</td>\n",
       "      <td>No</td>\n",
       "      <td>No</td>\n",
       "      <td>No</td>\n",
       "      <td>No</td>\n",
       "      <td>No</td>\n",
       "      <td>...</td>\n",
       "      <td>Yes</td>\n",
       "      <td>No</td>\n",
       "      <td>No</td>\n",
       "      <td>No</td>\n",
       "      <td>No</td>\n",
       "      <td>No</td>\n",
       "      <td>No</td>\n",
       "      <td>No</td>\n",
       "      <td>No</td>\n",
       "      <td>No</td>\n",
       "    </tr>\n",
       "    <tr>\n",
       "      <th>4</th>\n",
       "      <td>902440</td>\n",
       "      <td>35.0</td>\n",
       "      <td>F</td>\n",
       "      <td>No</td>\n",
       "      <td>PFIZER\\BIONTECH</td>\n",
       "      <td>No</td>\n",
       "      <td>No</td>\n",
       "      <td>Yes</td>\n",
       "      <td>No</td>\n",
       "      <td>No</td>\n",
       "      <td>...</td>\n",
       "      <td>No</td>\n",
       "      <td>Yes</td>\n",
       "      <td>No</td>\n",
       "      <td>No</td>\n",
       "      <td>No</td>\n",
       "      <td>No</td>\n",
       "      <td>No</td>\n",
       "      <td>No</td>\n",
       "      <td>No</td>\n",
       "      <td>No</td>\n",
       "    </tr>\n",
       "    <tr>\n",
       "      <th>...</th>\n",
       "      <td>...</td>\n",
       "      <td>...</td>\n",
       "      <td>...</td>\n",
       "      <td>...</td>\n",
       "      <td>...</td>\n",
       "      <td>...</td>\n",
       "      <td>...</td>\n",
       "      <td>...</td>\n",
       "      <td>...</td>\n",
       "      <td>...</td>\n",
       "      <td>...</td>\n",
       "      <td>...</td>\n",
       "      <td>...</td>\n",
       "      <td>...</td>\n",
       "      <td>...</td>\n",
       "      <td>...</td>\n",
       "      <td>...</td>\n",
       "      <td>...</td>\n",
       "      <td>...</td>\n",
       "      <td>...</td>\n",
       "      <td>...</td>\n",
       "    </tr>\n",
       "    <tr>\n",
       "      <th>404844</th>\n",
       "      <td>1427468</td>\n",
       "      <td>17.0</td>\n",
       "      <td>F</td>\n",
       "      <td>No</td>\n",
       "      <td>PFIZER\\BIONTECH</td>\n",
       "      <td>No</td>\n",
       "      <td>No</td>\n",
       "      <td>No</td>\n",
       "      <td>No</td>\n",
       "      <td>No</td>\n",
       "      <td>...</td>\n",
       "      <td>No</td>\n",
       "      <td>No</td>\n",
       "      <td>No</td>\n",
       "      <td>No</td>\n",
       "      <td>No</td>\n",
       "      <td>No</td>\n",
       "      <td>No</td>\n",
       "      <td>No</td>\n",
       "      <td>No</td>\n",
       "      <td>No</td>\n",
       "    </tr>\n",
       "    <tr>\n",
       "      <th>404845</th>\n",
       "      <td>1427471</td>\n",
       "      <td>18.0</td>\n",
       "      <td>M</td>\n",
       "      <td>No</td>\n",
       "      <td>MODERNA</td>\n",
       "      <td>No</td>\n",
       "      <td>No</td>\n",
       "      <td>No</td>\n",
       "      <td>No</td>\n",
       "      <td>No</td>\n",
       "      <td>...</td>\n",
       "      <td>No</td>\n",
       "      <td>No</td>\n",
       "      <td>No</td>\n",
       "      <td>No</td>\n",
       "      <td>No</td>\n",
       "      <td>No</td>\n",
       "      <td>No</td>\n",
       "      <td>No</td>\n",
       "      <td>No</td>\n",
       "      <td>No</td>\n",
       "    </tr>\n",
       "    <tr>\n",
       "      <th>404846</th>\n",
       "      <td>1427472</td>\n",
       "      <td>54.0</td>\n",
       "      <td>F</td>\n",
       "      <td>No</td>\n",
       "      <td>MODERNA</td>\n",
       "      <td>No</td>\n",
       "      <td>No</td>\n",
       "      <td>No</td>\n",
       "      <td>No</td>\n",
       "      <td>No</td>\n",
       "      <td>...</td>\n",
       "      <td>No</td>\n",
       "      <td>No</td>\n",
       "      <td>No</td>\n",
       "      <td>No</td>\n",
       "      <td>No</td>\n",
       "      <td>No</td>\n",
       "      <td>No</td>\n",
       "      <td>No</td>\n",
       "      <td>No</td>\n",
       "      <td>No</td>\n",
       "    </tr>\n",
       "    <tr>\n",
       "      <th>404847</th>\n",
       "      <td>1427475</td>\n",
       "      <td>87.0</td>\n",
       "      <td>F</td>\n",
       "      <td>Yes</td>\n",
       "      <td>MODERNA</td>\n",
       "      <td>No</td>\n",
       "      <td>No</td>\n",
       "      <td>No</td>\n",
       "      <td>No</td>\n",
       "      <td>No</td>\n",
       "      <td>...</td>\n",
       "      <td>No</td>\n",
       "      <td>No</td>\n",
       "      <td>No</td>\n",
       "      <td>No</td>\n",
       "      <td>No</td>\n",
       "      <td>No</td>\n",
       "      <td>No</td>\n",
       "      <td>No</td>\n",
       "      <td>No</td>\n",
       "      <td>No</td>\n",
       "    </tr>\n",
       "    <tr>\n",
       "      <th>404848</th>\n",
       "      <td>1427476</td>\n",
       "      <td>56.0</td>\n",
       "      <td>F</td>\n",
       "      <td>No</td>\n",
       "      <td>MODERNA</td>\n",
       "      <td>No</td>\n",
       "      <td>No</td>\n",
       "      <td>No</td>\n",
       "      <td>No</td>\n",
       "      <td>No</td>\n",
       "      <td>...</td>\n",
       "      <td>No</td>\n",
       "      <td>No</td>\n",
       "      <td>No</td>\n",
       "      <td>No</td>\n",
       "      <td>No</td>\n",
       "      <td>No</td>\n",
       "      <td>No</td>\n",
       "      <td>No</td>\n",
       "      <td>No</td>\n",
       "      <td>No</td>\n",
       "    </tr>\n",
       "  </tbody>\n",
       "</table>\n",
       "<p>404849 rows × 60 columns</p>\n",
       "</div>"
      ],
      "text/plain": [
       "        VAERS_ID  AGE_YRS SEX DIED         VAX_MANU Headache Pyrexia Fatigue  \\\n",
       "0        1410490     54.0   F   No  PFIZER\\BIONTECH       No      No      No   \n",
       "1        1413866     67.0   M   No          MODERNA       No      No      No   \n",
       "2         896636     47.0   F   No          MODERNA       No      No      No   \n",
       "3         902418     56.0   F   No  PFIZER\\BIONTECH       No      No      No   \n",
       "4         902440     35.0   F   No  PFIZER\\BIONTECH       No      No     Yes   \n",
       "...          ...      ...  ..  ...              ...      ...     ...     ...   \n",
       "404844   1427468     17.0   F   No  PFIZER\\BIONTECH       No      No      No   \n",
       "404845   1427471     18.0   M   No          MODERNA       No      No      No   \n",
       "404846   1427472     54.0   F   No          MODERNA       No      No      No   \n",
       "404847   1427475     87.0   F  Yes          MODERNA       No      No      No   \n",
       "404848   1427476     56.0   F   No          MODERNA       No      No      No   \n",
       "\n",
       "       Chills Swelling  ... Pain Mobility_decreased Stroke Influenza  \\\n",
       "0          No       No  ...   No                 No     No        No   \n",
       "1          No      Yes  ...   No                 No     No        No   \n",
       "2          No       No  ...   No                 No     No        No   \n",
       "3          No       No  ...  Yes                 No     No        No   \n",
       "4          No       No  ...   No                Yes     No        No   \n",
       "...       ...      ...  ...  ...                ...    ...       ...   \n",
       "404844     No       No  ...   No                 No     No        No   \n",
       "404845     No       No  ...   No                 No     No        No   \n",
       "404846     No       No  ...   No                 No     No        No   \n",
       "404847     No       No  ...   No                 No     No        No   \n",
       "404848     No       No  ...   No                 No     No        No   \n",
       "\n",
       "       SARS-COV-2 Appetite_decreased Induration Sleep disorder  \\\n",
       "0              No                 No         No             No   \n",
       "1              No                 No        Yes             No   \n",
       "2              No                 No         No             No   \n",
       "3              No                 No         No             No   \n",
       "4              No                 No         No             No   \n",
       "...           ...                ...        ...            ...   \n",
       "404844         No                 No         No             No   \n",
       "404845         No                 No         No             No   \n",
       "404846         No                 No         No             No   \n",
       "404847         No                 No         No             No   \n",
       "404848         No                 No         No             No   \n",
       "\n",
       "       Condition_aggravated Joint_issues  \n",
       "0                        No           No  \n",
       "1                        No           No  \n",
       "2                        No           No  \n",
       "3                        No           No  \n",
       "4                        No           No  \n",
       "...                     ...          ...  \n",
       "404844                   No           No  \n",
       "404845                   No           No  \n",
       "404846                   No           No  \n",
       "404847                   No           No  \n",
       "404848                   No           No  \n",
       "\n",
       "[404849 rows x 60 columns]"
      ]
     },
     "execution_count": 87,
     "metadata": {},
     "output_type": "execute_result"
    }
   ],
   "source": [
    "covid_adv"
   ]
  },
  {
   "cell_type": "code",
   "execution_count": 92,
   "id": "d1d4c0da",
   "metadata": {},
   "outputs": [],
   "source": [
    "covid_adv.to_csv('covid_adv_symptom.csv', index = False)"
   ]
  },
  {
   "cell_type": "code",
   "execution_count": null,
   "id": "c2d9a10f",
   "metadata": {},
   "outputs": [],
   "source": []
  }
 ],
 "metadata": {
  "hide_input": false,
  "kernelspec": {
   "display_name": "Python 3 (ipykernel)",
   "language": "python",
   "name": "python3"
  },
  "language_info": {
   "codemirror_mode": {
    "name": "ipython",
    "version": 3
   },
   "file_extension": ".py",
   "mimetype": "text/x-python",
   "name": "python",
   "nbconvert_exporter": "python",
   "pygments_lexer": "ipython3",
   "version": "3.8.8"
  },
  "varInspector": {
   "cols": {
    "lenName": 16,
    "lenType": 16,
    "lenVar": 40
   },
   "kernels_config": {
    "python": {
     "delete_cmd_postfix": "",
     "delete_cmd_prefix": "del ",
     "library": "var_list.py",
     "varRefreshCmd": "print(var_dic_list())"
    },
    "r": {
     "delete_cmd_postfix": ") ",
     "delete_cmd_prefix": "rm(",
     "library": "var_list.r",
     "varRefreshCmd": "cat(var_dic_list()) "
    }
   },
   "types_to_exclude": [
    "module",
    "function",
    "builtin_function_or_method",
    "instance",
    "_Feature"
   ],
   "window_display": false
  }
 },
 "nbformat": 4,
 "nbformat_minor": 5
}
